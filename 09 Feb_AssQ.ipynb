{
 "cells": [
  {
   "cell_type": "code",
   "execution_count": 2,
   "id": "84517995-86da-490b-89c7-a4599f168185",
   "metadata": {},
   "outputs": [
    {
     "data": {
      "text/plain": [
       "'\\nQ1, Create a vehicle class with an init method having instance variables as name_of_vehicle, max_speed and average_of_vehicle.\\n'"
      ]
     },
     "execution_count": 2,
     "metadata": {},
     "output_type": "execute_result"
    }
   ],
   "source": [
    "\"\"\"\n",
    "Q1, Create a vehicle class with an init method having instance variables as name_of_vehicle, max_speed and average_of_vehicle.\n",
    "\"\"\""
   ]
  },
  {
   "cell_type": "code",
   "execution_count": 3,
   "id": "c2fb59bf-2906-468f-a953-2606ecc53dfa",
   "metadata": {},
   "outputs": [],
   "source": [
    "class Vehicle:\n",
    "    def __init__(self, name_of_vehicle, max_speed, average_of_vehicle):\n",
    "        self.name_of_vehicle = name_of_vehicle\n",
    "        self.max_speed = max_speed\n",
    "        self.average_of_vehicle = average_of_vehicle\n"
   ]
  },
  {
   "cell_type": "code",
   "execution_count": 4,
   "id": "d48cf548-ac07-4e8a-a319-a88162533ec4",
   "metadata": {},
   "outputs": [
    {
     "name": "stdout",
     "output_type": "stream",
     "text": [
      "Tesla Model S\n",
      "250\n",
      "30\n"
     ]
    }
   ],
   "source": [
    "car = Vehicle('Tesla Model S', 250, 30)\n",
    "print(car.name_of_vehicle)         # Output: 'Tesla Model S'\n",
    "print(car.max_speed)               # Output: 250\n",
    "print(car.average_of_vehicle)      # Output: 30\n"
   ]
  },
  {
   "cell_type": "code",
   "execution_count": 5,
   "id": "bd41dcaa-4a51-470b-8bca-90df43b11d7a",
   "metadata": {},
   "outputs": [
    {
     "data": {
      "text/plain": [
       "'\\nQ2. Create a child class car from the vehicle class created in Que 1, which will inherit the vehicle class.\\nCreate a method named seating_capacity which takes capacity as an argument and returns the name of the vehicle and its seating capacity.\\n'"
      ]
     },
     "execution_count": 5,
     "metadata": {},
     "output_type": "execute_result"
    }
   ],
   "source": [
    "\"\"\"\n",
    "Q2. Create a child class car from the vehicle class created in Que 1, which will inherit the vehicle class.\n",
    "Create a method named seating_capacity which takes capacity as an argument and returns the name of the vehicle and its seating capacity.\n",
    "\"\"\""
   ]
  },
  {
   "cell_type": "code",
   "execution_count": 6,
   "id": "6034a2ca-6c14-42cc-998c-bc11d84edb62",
   "metadata": {},
   "outputs": [],
   "source": [
    "class Car(Vehicle):\n",
    "    def seating_capacity(self, capacity):\n",
    "        return f\"{self.name_of_vehicle} has a seating capacity of {capacity} passengers.\"\n"
   ]
  },
  {
   "cell_type": "code",
   "execution_count": 7,
   "id": "a1ca09f4-5bc7-4e73-b009-1db59f0928c1",
   "metadata": {},
   "outputs": [
    {
     "name": "stdout",
     "output_type": "stream",
     "text": [
      "Tesla Model S has a seating capacity of 5 passengers.\n"
     ]
    }
   ],
   "source": [
    "car = Car('Tesla Model S', 250, 30)\n",
    "print(car.seating_capacity(5))   # Output: 'Tesla Model S has a seating capacity of 5 passengers.'\n"
   ]
  },
  {
   "cell_type": "code",
   "execution_count": 8,
   "id": "e11e23d9-b45c-4aea-a54d-921ed8e94824",
   "metadata": {},
   "outputs": [
    {
     "data": {
      "text/plain": [
       "'\\nQ3. What is multiple inheritance? Write a python code to demonstrate multiple inheritance.\\n'"
      ]
     },
     "execution_count": 8,
     "metadata": {},
     "output_type": "execute_result"
    }
   ],
   "source": [
    "\"\"\"\n",
    "Q3. What is multiple inheritance? Write a python code to demonstrate multiple inheritance.\n",
    "\"\"\""
   ]
  },
  {
   "cell_type": "code",
   "execution_count": 9,
   "id": "160597ef-a821-42d7-b426-d51e9abe1bb8",
   "metadata": {},
   "outputs": [
    {
     "data": {
      "text/plain": [
       "'\\nMultiple inheritance is a feature of object-oriented programming where a class can inherit from multiple parent classes. \\nThis means that a subclass can have access to the instance variables and methods of all its parent classes.\\n'"
      ]
     },
     "execution_count": 9,
     "metadata": {},
     "output_type": "execute_result"
    }
   ],
   "source": [
    "\"\"\"\n",
    "Multiple inheritance is a feature of object-oriented programming where a class can inherit from multiple parent classes. \n",
    "This means that a subclass can have access to the instance variables and methods of all its parent classes.\n",
    "\"\"\""
   ]
  },
  {
   "cell_type": "code",
   "execution_count": 10,
   "id": "adbdfc3c-cd32-40f0-b5c5-bf40f420f17d",
   "metadata": {},
   "outputs": [
    {
     "name": "stdout",
     "output_type": "stream",
     "text": [
      "Method A from class A\n",
      "Method B from class B\n",
      "Method C from class C\n"
     ]
    }
   ],
   "source": [
    "class A:\n",
    "    def method_a(self):\n",
    "        print(\"Method A from class A\")\n",
    "\n",
    "class B:\n",
    "    def method_b(self):\n",
    "        print(\"Method B from class B\")\n",
    "\n",
    "class C(A, B):\n",
    "    def method_c(self):\n",
    "        print(\"Method C from class C\")\n",
    "\n",
    "# create an object of class C\n",
    "obj = C()\n",
    "\n",
    "# call methods from class A, B and C\n",
    "obj.method_a()  # Output: \"Method A from class A\"\n",
    "obj.method_b()  # Output: \"Method B from class B\"\n",
    "obj.method_c()  # Output: \"Method C from class C\""
   ]
  },
  {
   "cell_type": "code",
   "execution_count": 11,
   "id": "7ea9f5f1-c077-4afd-8123-8c0d8921c535",
   "metadata": {},
   "outputs": [
    {
     "data": {
      "text/plain": [
       "'\\nQ4. What are getter and setter in python? Create a class and create a getter and a setter method in this class.\\n'"
      ]
     },
     "execution_count": 11,
     "metadata": {},
     "output_type": "execute_result"
    }
   ],
   "source": [
    "\"\"\"\n",
    "Q4. What are getter and setter in python? Create a class and create a getter and a setter method in this class.\n",
    "\"\"\""
   ]
  },
  {
   "cell_type": "code",
   "execution_count": 13,
   "id": "b5e161ae-dae5-4c07-ad8d-12c1387dad49",
   "metadata": {},
   "outputs": [
    {
     "data": {
      "text/plain": [
       "\"\\nIn Python, getters and setters are methods that are used to access and modify instance variables of a class in a controlled manner. \\nGetters are used to retrieve the value of an instance variable, while setters are used to modify the value of an instance variable.\\n\\nHere's an example implementation of a class that includes a getter and a setter method:\\n\""
      ]
     },
     "execution_count": 13,
     "metadata": {},
     "output_type": "execute_result"
    }
   ],
   "source": [
    "\"\"\"\n",
    "In Python, getters and setters are methods that are used to access and modify instance variables of a class in a controlled manner. \n",
    "Getters are used to retrieve the value of an instance variable, while setters are used to modify the value of an instance variable.\n",
    "\n",
    "Here's an example implementation of a class that includes a getter and a setter method:\n",
    "\"\"\""
   ]
  },
  {
   "cell_type": "code",
   "execution_count": 14,
   "id": "abb7784d-8156-4d8f-8968-30fd1fd99095",
   "metadata": {},
   "outputs": [],
   "source": [
    "class Person:\n",
    "    def __init__(self, name, age):\n",
    "        self._name = name\n",
    "        self._age = age\n",
    "\n",
    "    def get_name(self):\n",
    "        return self._name\n",
    "\n",
    "    def set_age(self, age):\n",
    "        if age < 0:\n",
    "            print(\"Age cannot be negative.\")\n",
    "        else:\n",
    "            self._age = age\n",
    "\n",
    "    def get_age(self):\n",
    "        return self._age\n"
   ]
  },
  {
   "cell_type": "code",
   "execution_count": 16,
   "id": "698e6ccb-cc20-484d-871a-d8983e251823",
   "metadata": {},
   "outputs": [
    {
     "name": "stdout",
     "output_type": "stream",
     "text": [
      "Milan Behera\n",
      "28\n",
      "35\n",
      "Age cannot be negative.\n",
      "35\n"
     ]
    }
   ],
   "source": [
    "person = Person(\"Milan Behera\", 28)\n",
    "print(person.get_name())  # Output: \"Milan Behera\"\n",
    "print(person.get_age())   # Output: 28\n",
    "\n",
    "person.set_age(35)\n",
    "print(person.get_age())   # Output: 35\n",
    "\n",
    "person.set_age(-5)        # Output: \"Age cannot be negative.\"\n",
    "print(person.get_age())   # Output: 35\n"
   ]
  },
  {
   "cell_type": "code",
   "execution_count": 17,
   "id": "075ab566-27c2-4fd0-9851-67128fe354c0",
   "metadata": {},
   "outputs": [
    {
     "data": {
      "text/plain": [
       "'\\nQ5.What is method overriding in python? Write a python code to demonstrate method overriding.\\n'"
      ]
     },
     "execution_count": 17,
     "metadata": {},
     "output_type": "execute_result"
    }
   ],
   "source": [
    "\"\"\"\n",
    "Q5.What is method overriding in python? Write a python code to demonstrate method overriding.\n",
    "\"\"\""
   ]
  },
  {
   "cell_type": "code",
   "execution_count": 19,
   "id": "7914368b-4833-486c-a426-99ce5fdf2ea3",
   "metadata": {},
   "outputs": [
    {
     "data": {
      "text/plain": [
       "\"\\nMethod overriding is a feature in object-oriented programming that allows a subclass to provide a different implementation of a method \\nthat is already defined in its superclass. When the method is called on an instance of the subclass, the subclass's implementation of \\nthe method will be executed instead of the superclass's implementation.\\n\""
      ]
     },
     "execution_count": 19,
     "metadata": {},
     "output_type": "execute_result"
    }
   ],
   "source": [
    "\"\"\"\n",
    "Method overriding is a feature in object-oriented programming that allows a subclass to provide a different implementation of a method \n",
    "that is already defined in its superclass. When the method is called on an instance of the subclass, the subclass's implementation of \n",
    "the method will be executed instead of the superclass's implementation.\n",
    "\"\"\""
   ]
  },
  {
   "cell_type": "code",
   "execution_count": 21,
   "id": "11b5458f-2fb7-4a8a-a6ab-0323b9859bae",
   "metadata": {},
   "outputs": [
    {
     "name": "stdout",
     "output_type": "stream",
     "text": [
      "The animal makes a sound\n",
      "The dog barks\n",
      "The cat meows\n"
     ]
    }
   ],
   "source": [
    "class Animal:\n",
    "    def make_sound(self):\n",
    "        print(\"The animal makes a sound\")\n",
    "\n",
    "class Dog(Animal):\n",
    "    def make_sound(self):\n",
    "        print(\"The dog barks\")\n",
    "\n",
    "class Cat(Animal):\n",
    "    def make_sound(self):\n",
    "        print(\"The cat meows\")\n",
    "\n",
    "# Create instances of the classes\n",
    "animal = Animal()\n",
    "dog = Dog()\n",
    "cat = Cat()\n",
    "\n",
    "# Call the methods of the instances\n",
    "animal.make_sound() # The animal makes a sound\n",
    "dog.make_sound() # The dog barks\n",
    "cat.make_sound() # The cat meows\n",
    "\n"
   ]
  },
  {
   "cell_type": "code",
   "execution_count": null,
   "id": "785a1a3f-d155-4d9d-96d9-4531d89997a6",
   "metadata": {},
   "outputs": [],
   "source": []
  }
 ],
 "metadata": {
  "kernelspec": {
   "display_name": "Python 3 (ipykernel)",
   "language": "python",
   "name": "python3"
  },
  "language_info": {
   "codemirror_mode": {
    "name": "ipython",
    "version": 3
   },
   "file_extension": ".py",
   "mimetype": "text/x-python",
   "name": "python",
   "nbconvert_exporter": "python",
   "pygments_lexer": "ipython3",
   "version": "3.10.8"
  }
 },
 "nbformat": 4,
 "nbformat_minor": 5
}
